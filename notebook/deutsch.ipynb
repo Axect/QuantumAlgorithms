{
 "cells": [
  {
   "cell_type": "markdown",
   "metadata": {},
   "source": [
    "# Deutsch Algorithm"
   ]
  },
  {
   "cell_type": "code",
   "execution_count": 1,
   "metadata": {},
   "outputs": [],
   "source": [
    "import pennylane as qml\n",
    "from pennylane import numpy as np\n",
    "import matplotlib.pyplot as plt"
   ]
  },
  {
   "cell_type": "code",
   "execution_count": 2,
   "metadata": {},
   "outputs": [],
   "source": [
    "qml.drawer.use_style(style='sketch')"
   ]
  },
  {
   "cell_type": "markdown",
   "metadata": {},
   "source": [
    "**Balanced or constant?**\n",
    "\n",
    "Consider single variable function $f(x)$ defined as follows:\n",
    "$$\n",
    "f: \\{0, 1\\} \\rightarrow \\{0, 1\\}\n",
    "$$\n",
    "\n",
    "There are four possible functions:\n",
    "\n",
    "1. $f_0(0) = 0, f_0(1) = 0$ - constant function\n",
    "   \n",
    "2. $f_1(0) = 0, f_1(1) = 1$ - balanced function\n",
    "   \n",
    "3. $f_2(0) = 1, f_2(1) = 0$ - balanced function\n",
    "   \n",
    "4. $f_3(0) = 1, f_3(1) = 1$ - constant function\n",
    "\n",
    "We want to determine whether the function is constant or balanced.\n",
    "How many times do we need to evaluate the function to determine this?"
   ]
  },
  {
   "cell_type": "markdown",
   "metadata": {},
   "source": [
    "## Classical solution"
   ]
  },
  {
   "cell_type": "code",
   "execution_count": 3,
   "metadata": {},
   "outputs": [],
   "source": [
    "def is_constant(f):\n",
    "    return f(0) == f(1) # need two evaluations to check if constant"
   ]
  },
  {
   "cell_type": "markdown",
   "metadata": {},
   "source": [
    "## Quantum solution"
   ]
  },
  {
   "cell_type": "markdown",
   "metadata": {},
   "source": [
    "### Quantum Oracle"
   ]
  },
  {
   "cell_type": "markdown",
   "metadata": {},
   "source": [
    "For quantum computing, we need to define a quantum oracle for the function.\n",
    "\n",
    "First, let's define an operator $\\mathcal{O}_f$ such that:\n",
    "$$\n",
    "\\mathcal{O}_f |x\\rangle = |f(x)\\rangle\n",
    "$$\n",
    "\n",
    "But this equation violates the unitarity of the operator for constant functions.\n",
    "(For constant functions, the operator is not reversible.)\n",
    "\n",
    "To fix this, we can add an extra qubit $|y\\rangle$ and define the operator as follows:\n",
    "\n",
    "$$\n",
    "U_f (|x\\rangle \\otimes |y\\rangle) = |x\\rangle \\otimes |y \\oplus f(x)\\rangle\n",
    "$$\n",
    "\n",
    "where $\\oplus$ is the bitwise XOR operation.\n",
    "\n",
    "For all possible states of $|x\\rangle$ and $|y\\rangle$, the output of the operator is:\n",
    "\n",
    "- $|0\\rangle \\otimes |0\\rangle \\rightarrow |0\\rangle \\otimes |f(0)\\rangle$\n",
    "- $|0\\rangle \\otimes |1\\rangle \\rightarrow |0\\rangle \\otimes |f(0) \\oplus 1\\rangle$\n",
    "- $|1\\rangle \\otimes |0\\rangle \\rightarrow |1\\rangle \\otimes |f(1)\\rangle$\n",
    "- $|1\\rangle \\otimes |1\\rangle \\rightarrow |1\\rangle \\otimes |f(1) \\oplus 1\\rangle$\n",
    "\n",
    "These represent the operator $U_f$ is orthogonal.\n",
    "And the operator is also reversible.\n",
    "\n",
    "$$\n",
    "U_f(U_f(|x\\rangle \\otimes |y\\rangle)) = U_f(|x\\rangle \\otimes |y \\oplus f(x)\\rangle) = |x\\rangle \\otimes |y \\oplus f(x) \\oplus f(x)\\rangle = |x\\rangle \\otimes |y\\rangle\n",
    "$$\n",
    "\n",
    "Therefore the operator is unitary.\n",
    "\n",
    "And with computational basis, the operator can be represented as follows:\n",
    "\n",
    "- `[1,0,0,0] -> [1,0,0,0] if f(0) = 0 else [0,1,0,0]`\n",
    "- `[0,1,0,0] -> [0,1,0,0] if f(0) = 0 else [1,0,0,0]`\n",
    "- `[0,0,1,0] -> [0,0,1,0] if f(1) = 0 else [0,0,0,1]`\n",
    "- `[0,0,0,1] -> [0,0,0,1] if f(1) = 0 else [0,0,1,0]`\n",
    "\n",
    "$$\n",
    "U_f = \\begin{bmatrix}\n",
    "1-f(0) & f(0) & 0 & 0 \\\\\n",
    "f(0) & 1-f(0) & 0 & 0 \\\\\n",
    "0 & 0 & 1-f(1) & f(1) \\\\\n",
    "0 & 0 & f(1) & 1-f(1)\n",
    "\\end{bmatrix}\n",
    "$$\n"
   ]
  },
  {
   "cell_type": "code",
   "execution_count": 4,
   "metadata": {},
   "outputs": [],
   "source": [
    "def f(x):\n",
    "    return 1"
   ]
  },
  {
   "cell_type": "code",
   "execution_count": 5,
   "metadata": {},
   "outputs": [],
   "source": [
    "def U(f):\n",
    "    return np.array([\n",
    "        [1 - f(0), f(0), 0, 0],\n",
    "        [f(0), 1 - f(0), 0, 0],\n",
    "        [0, 0, 1 - f(1), f(1)],\n",
    "        [0, 0, f(1), 1 - f(1)]\n",
    "    ])"
   ]
  },
  {
   "cell_type": "code",
   "execution_count": 6,
   "metadata": {},
   "outputs": [],
   "source": [
    "dev = qml.device('default.qubit', wires=2)"
   ]
  },
  {
   "cell_type": "code",
   "execution_count": 7,
   "metadata": {},
   "outputs": [],
   "source": [
    "@qml.qnode(dev)\n",
    "def oracle_test(f, x):\n",
    "    qml.QubitStateVector(x, wires=[0, 1])\n",
    "    qml.QubitUnitary(U(f), wires=[0, 1])\n",
    "    return qml.state()"
   ]
  },
  {
   "cell_type": "code",
   "execution_count": 8,
   "metadata": {},
   "outputs": [
    {
     "data": {
      "image/png": "[encoded data removed]",
      "text/plain": [
       "<Figure size 500x300 with 1 Axes>"
      ]
     },
     "metadata": {},
     "output_type": "display_data"
    },
    {
     "data": {
      "text/plain": [
       "tensor([0.+0.j, 1.+0.j, 0.+0.j, 0.+0.j], requires_grad=True)"
      ]
     },
     "execution_count": 8,
     "metadata": {},
     "output_type": "execute_result"
    }
   ],
   "source": [
    "qml.draw_mpl(oracle_test)(f, [1,0,0,0])\n",
    "plt.show()\n",
    "oracle_test(f, [1,0,0,0])"
   ]
  },
  {
   "cell_type": "markdown",
   "metadata": {},
   "source": [
    "Then now, the question is how many times do we need to apply the operator to determine whether the function is constant or balanced?\n",
    "\n",
    "- Input binary qubits only then oracle's output's are binary qubits too. Thus, we need two evaluations.\n",
    "\n",
    "- Then what if we input entangled qubits?"
   ]
  },
  {
   "cell_type": "code",
   "execution_count": 9,
   "metadata": {},
   "outputs": [],
   "source": [
    "@qml.qnode(dev)\n",
    "def deutsch(f):\n",
    "    qml.PauliX(wires=1)\n",
    "    qml.Barrier(wires=[0,1])\n",
    "    qml.Hadamard(wires=0)\n",
    "    qml.Hadamard(wires=1)\n",
    "    qml.QubitUnitary(U(f), wires=[0, 1])\n",
    "    qml.Hadamard(wires=0)\n",
    "    return qml.probs(wires=0)"
   ]
  },
  {
   "cell_type": "code",
   "execution_count": 10,
   "metadata": {},
   "outputs": [
    {
     "data": {
      "image/png": "[encoded data removed]",
      "text/plain": [
       "<Figure size 800x300 with 1 Axes>"
      ]
     },
     "metadata": {},
     "output_type": "display_data"
    }
   ],
   "source": [
    "qml.draw_mpl(deutsch)(f)\n",
    "plt.show()"
   ]
  },
  {
   "cell_type": "markdown",
   "metadata": {},
   "source": [
    "**Explanation of the circuit**\n",
    "\n",
    "1) Apply X gate to the second qubit to make it $|1\\rangle$.\n",
    "\n",
    "2) Apply Hadamard gate to both qubits to make them entangled.\n",
    "    $$\n",
    "    \\begin{aligned}\n",
    "    (H \\otimes H) (|0\\rangle \\otimes |1\\rangle) &= \\frac{1}{\\sqrt{2}}(|0\\rangle + |1\\rangle) \\otimes \\frac{1}{\\sqrt{2}}(|0\\rangle - |1\\rangle) \\\\\n",
    "    &= \\frac{1}{2}(|00\\rangle - |01\\rangle + |10\\rangle - |11\\rangle)\n",
    "    \\end{aligned}\n",
    "    $$\n",
    "\n",
    "3) Apply the oracle operator to the qubits.\n",
    "    $$\n",
    "    \\begin{aligned}\n",
    "    \\frac{1}{2}(|00\\rangle - |01\\rangle + |10\\rangle - |11\\rangle) &\\rightarrow \\frac{1}{2}(|0\\rangle \\otimes |f(0)\\rangle - |0\\rangle \\otimes |f(0) \\oplus 1\\rangle + |1\\rangle \\otimes |f(1)\\rangle - |1\\rangle \\otimes |f(1) \\oplus 1\\rangle) \\\\\n",
    "    &= \\frac{1}{2}(|0\\rangle \\otimes (|f(0)\\rangle - |f(0) \\oplus 1\\rangle) + |1\\rangle \\otimes (|f(1)\\rangle - |f(1) \\oplus 1\\rangle))\n",
    "    \\end{aligned}\n",
    "    $$\n",
    "    We can use the trick:\n",
    "    $$\n",
    "    |f(0)\\rangle - |f(0) \\oplus 1\\rangle = (-1)^{f(0)}(|0\\rangle - |1\\rangle) \\\\\n",
    "    |f(1)\\rangle - |f(1) \\oplus 1\\rangle = (-1)^{f(1)}(|0\\rangle - |1\\rangle)\n",
    "    $$\n",
    "    Then, the state becomes:\n",
    "    $$\n",
    "    \\begin{aligned}\n",
    "    &\\frac{1}{2}(|0\\rangle \\otimes (-1)^{f(0)}(|0\\rangle - |1\\rangle) + |1\\rangle \\otimes (-1)^{f(1)}(|0\\rangle - |1\\rangle)) \\\\\n",
    "    =& \\frac{1}{2}((-1)^{f(0)}|0\\rangle \\otimes (|0\\rangle - |1\\rangle) + (-1)^{f(1)}|1\\rangle \\otimes (|0\\rangle - |1\\rangle)) \\\\\n",
    "    =& \\frac{1}{2}((-1)^{f(0)}|0\\rangle + (-1)^{f(1)}|1\\rangle) \\otimes (|0\\rangle - |1\\rangle) \\\\\n",
    "    =& \\frac{1}{\\sqrt{2}}((-1)^{f(0)}|0\\rangle + (-1)^{f(1)}|1\\rangle) \\otimes \\frac{1}{\\sqrt{2}}(|0\\rangle - |1\\rangle)\n",
    "    \\end{aligned}\n",
    "    $$\n",
    "    This means two qubits are decoupled.\n",
    "\n",
    "4) Apply Hadamard gate to the first qubit.\n",
    "    $$\n",
    "    \\begin{aligned}\n",
    "    \\frac{1}{\\sqrt{2}}((-1)^{f(0)}|0\\rangle + (-1)^{f(1)}|1\\rangle) &\\rightarrow \\frac{1}{2}((-1)^{f(0)}(|0\\rangle + |1\\rangle) + (-1)^{f(1)}(|0\\rangle - |1\\rangle)) \\\\\n",
    "    &= \\frac{1}{2}((-1)^{f(0)} + (-1)^{f(1)})|0\\rangle + \\frac{1}{2}((-1)^{f(0)} - (-1)^{f(1)})|1\\rangle\n",
    "    \\end{aligned}\n",
    "    $$\n",
    "    - If $f$ is constant, then the state lies on the $|0\\rangle$ axis.\n",
    "    - If $f$ is balanced, then the state lies on the $|1\\rangle$ axis.\n"
   ]
  },
  {
   "cell_type": "code",
   "execution_count": 11,
   "metadata": {},
   "outputs": [
    {
     "name": "stdout",
     "output_type": "stream",
     "text": [
      "f(0) = 0, f(1) = 0, constant = True\n",
      "constant\n",
      "\n",
      "f(0) = 1, f(1) = 1, constant = True\n",
      "constant\n",
      "\n",
      "f(0) = 0, f(1) = 1, constant = False\n",
      "balanced\n",
      "\n",
      "f(0) = 1, f(1) = 0, constant = False\n",
      "balanced\n",
      "\n"
     ]
    }
   ],
   "source": [
    "f_vec = [\n",
    "    lambda x: 0,\n",
    "    lambda x: 1,\n",
    "    lambda x: x,\n",
    "    lambda x: 1 - x    \n",
    "]\n",
    "\n",
    "for f in f_vec:\n",
    "    print(f'f(0) = {f(0)}, f(1) = {f(1)}, constant = {is_constant(f)}')\n",
    "    prob = deutsch(f)\n",
    "    if prob[0] > 0:\n",
    "        print('constant')\n",
    "    else:\n",
    "        print('balanced')\n",
    "    print()"
   ]
  }
 ],
 "metadata": {
  "kernelspec": {
   "display_name": ".venv",
   "language": "python",
   "name": "python3"
  },
  "language_info": {
   "codemirror_mode": {
    "name": "ipython",
    "version": 3
   },
   "file_extension": ".py",
   "mimetype": "text/x-python",
   "name": "python",
   "nbconvert_exporter": "python",
   "pygments_lexer": "ipython3",
   "version": "3.11.6"
  }
 },
 "nbformat": 4,
 "nbformat_minor": 2
}
