{
 "cells": [
  {
   "cell_type": "code",
   "execution_count": 1,
   "metadata": {},
   "outputs": [],
   "source": [
    "import cirq\n",
    "import numpy as np\n",
    "import matplotlib.pyplot as plt"
   ]
  },
  {
   "cell_type": "code",
   "execution_count": 2,
   "metadata": {},
   "outputs": [],
   "source": [
    "class Oracle(cirq.Gate):\n",
    "    def __init__(self, s):\n",
    "        super(Oracle, self).__init__()\n",
    "        self.s = s\n",
    "        self.n = len(s)\n",
    "    \n",
    "    def _num_qubits_(self):\n",
    "        return self.n + 1\n",
    "    \n",
    "    def _decompose_(self, qubits):\n",
    "        s = self.s\n",
    "        n = self.n\n",
    "\n",
    "        for i, q in enumerate(qubits[:-1]):\n",
    "            if s[i] == 1:\n",
    "                yield cirq.CNOT(q, qubits[-1])\n",
    "\n",
    "    def _circuit_diagram_info_(self, args):\n",
    "        return ['U_f'] * (self.n + 1)"
   ]
  },
  {
   "cell_type": "code",
   "execution_count": 3,
   "metadata": {},
   "outputs": [
    {
     "name": "stdout",
     "output_type": "stream",
     "text": [
      "0: ───U_f─────────────────\n",
      "      │\n",
      "1: ───U_f─────────────────\n",
      "      │\n",
      "2: ───U_f─────────────────\n",
      "      │\n",
      "3: ───U_f───M('result')───\n"
     ]
    }
   ],
   "source": [
    "s = np.random.randint(2, size=3)\n",
    "oracle = Oracle(s)\n",
    "qubits = cirq.LineQubit.range(4)\n",
    "circuit = cirq.Circuit(\n",
    "    oracle(*qubits),\n",
    "    cirq.measure(qubits[-1], key='result')\n",
    ")\n",
    "print(circuit)"
   ]
  },
  {
   "cell_type": "code",
   "execution_count": 4,
   "metadata": {},
   "outputs": [],
   "source": [
    "sim = cirq.Simulator()\n",
    "\n",
    "states = ['0b100', '0b010', '0b001']\n",
    "results = []\n",
    "for state in states:\n",
    "    state = state + '0'\n",
    "    result = sim.simulate(circuit, initial_state=int(state, 2))\n",
    "    results.append(result.measurements['result'][0])"
   ]
  },
  {
   "cell_type": "code",
   "execution_count": 5,
   "metadata": {},
   "outputs": [
    {
     "data": {
      "text/plain": [
       "True"
      ]
     },
     "execution_count": 5,
     "metadata": {},
     "output_type": "execute_result"
    }
   ],
   "source": [
    "np.array_equal(results, s)"
   ]
  },
  {
   "cell_type": "code",
   "execution_count": 6,
   "metadata": {},
   "outputs": [],
   "source": [
    "def bernstein_vazirani(oracle):\n",
    "    n = oracle.n\n",
    "    qubits = cirq.LineQubit.range(n + 1)\n",
    "    circuit = cirq.Circuit(\n",
    "        # Make the bottom qubit |->\n",
    "        cirq.X(qubits[-1]),\n",
    "        cirq.H(qubits[-1]),\n",
    "\n",
    "        # Do the H^N operation\n",
    "        cirq.Moment(cirq.H.on_each(*qubits[:-1])),\n",
    "\n",
    "        # Query the oracle\n",
    "        oracle(*qubits),\n",
    "\n",
    "        # Do the H^N operation again\n",
    "        cirq.Moment(cirq.H.on_each(*qubits[:-1])),\n",
    "\n",
    "        # Measure\n",
    "        cirq.measure(*qubits[:-1], key='result')\n",
    "    )\n",
    "    return circuit"
   ]
  },
  {
   "cell_type": "code",
   "execution_count": 7,
   "metadata": {},
   "outputs": [
    {
     "name": "stdout",
     "output_type": "stream",
     "text": [
      "0: ───────────H───U_f───H───M('result')───\n",
      "                  │         │\n",
      "1: ───────────H───U_f───H───M─────────────\n",
      "                  │         │\n",
      "2: ───────────H───U_f───H───M─────────────\n",
      "                  │\n",
      "3: ───X───H───────U_f─────────────────────\n"
     ]
    }
   ],
   "source": [
    "circuit = bernstein_vazirani(oracle)\n",
    "print(circuit)"
   ]
  },
  {
   "cell_type": "code",
   "execution_count": 8,
   "metadata": {},
   "outputs": [],
   "source": [
    "class Oracle(cirq.Gate):\n",
    "    def __init__(self, n):\n",
    "        super(Oracle, self).__init__()\n",
    "        self.n = n\n",
    "        self.s = np.random.randint(2, size=n)\n",
    "    \n",
    "    def _num_qubits_(self):\n",
    "        return self.n + 1\n",
    "    \n",
    "    def _decompose_(self, qubits):\n",
    "        s = self.s\n",
    "\n",
    "        for i, q in enumerate(qubits[:-1]):\n",
    "            if s[i] == 1:\n",
    "                yield cirq.CNOT(q, qubits[-1])\n",
    "\n",
    "    def _circuit_diagram_info_(self, args):\n",
    "        return ['U_f'] * (self.n + 1)"
   ]
  },
  {
   "cell_type": "code",
   "execution_count": 9,
   "metadata": {},
   "outputs": [],
   "source": [
    "def join_array_to_string(array):\n",
    "    return ''.join([str(int(i)) for i in array])"
   ]
  },
  {
   "cell_type": "code",
   "execution_count": 10,
   "metadata": {},
   "outputs": [],
   "source": [
    "def run_bv(n):\n",
    "    oracle = Oracle(n)\n",
    "    circuit = bernstein_vazirani(oracle)\n",
    "    sim = cirq.Simulator()\n",
    "    result = sim.run(circuit, repetitions=1000)\n",
    "    return result.histogram(key='result', fold_func=join_array_to_string), oracle.s"
   ]
  },
  {
   "cell_type": "code",
   "execution_count": 11,
   "metadata": {},
   "outputs": [],
   "source": [
    "result, s = run_bv(10)"
   ]
  },
  {
   "cell_type": "code",
   "execution_count": 12,
   "metadata": {},
   "outputs": [
    {
     "data": {
      "image/png": "[encoded data removed]",
      "text/plain": [
       "<Figure size 640x480 with 1 Axes>"
      ]
     },
     "metadata": {},
     "output_type": "display_data"
    }
   ],
   "source": [
    "fig, ax = plt.subplots()\n",
    "cirq.plot_state_histogram(result, ax=ax)\n",
    "plt.show()"
   ]
  },
  {
   "cell_type": "code",
   "execution_count": 13,
   "metadata": {},
   "outputs": [
    {
     "data": {
      "text/plain": [
       "array([1, 1, 1, 1, 0, 1, 1, 0, 0, 1])"
      ]
     },
     "execution_count": 13,
     "metadata": {},
     "output_type": "execute_result"
    }
   ],
   "source": [
    "s"
   ]
  }
 ],
 "metadata": {
  "kernelspec": {
   "display_name": ".venv",
   "language": "python",
   "name": "python3"
  },
  "language_info": {
   "codemirror_mode": {
    "name": "ipython",
    "version": 3
   },
   "file_extension": ".py",
   "mimetype": "text/x-python",
   "name": "python",
   "nbconvert_exporter": "python",
   "pygments_lexer": "ipython3",
   "version": "3.11.6"
  }
 },
 "nbformat": 4,
 "nbformat_minor": 2
}
