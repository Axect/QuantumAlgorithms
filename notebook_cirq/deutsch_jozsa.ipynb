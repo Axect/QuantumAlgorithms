{
 "cells": [
  {
   "cell_type": "code",
   "execution_count": 1,
   "metadata": {},
   "outputs": [],
   "source": [
    "import cirq\n",
    "import numpy as np\n",
    "import matplotlib.pyplot as plt"
   ]
  },
  {
   "cell_type": "markdown",
   "metadata": {},
   "source": [
    "## Oracle"
   ]
  },
  {
   "cell_type": "code",
   "execution_count": 2,
   "metadata": {},
   "outputs": [],
   "source": [
    "class Oracle(cirq.Gate):\n",
    "    def __init__(self, case, n):\n",
    "        super(Oracle, self).__init__()\n",
    "        self.case = case\n",
    "        self.n = n\n",
    "        self.b_str = None\n",
    "        if self.case == 'balanced':\n",
    "            b = np.random.randint(1, 2**self.n)\n",
    "            self.b_str = f'{b:0{self.n}b}'\n",
    "\n",
    "    def _num_qubits_(self):\n",
    "        return self.n + 1\n",
    "\n",
    "    def _decompose_(self, qubits):\n",
    "        if self.case == 'balanced':\n",
    "            b_str = self.b_str\n",
    "            for i in range(len(b_str)):\n",
    "                if b_str[i] == '1':\n",
    "                    yield cirq.X(qubits[i])\n",
    "            \n",
    "            for i in range(len(b_str)):\n",
    "                yield cirq.CNOT(qubits[i], qubits[self.n])  # self.n is the index of the auxiliary qubit\n",
    "            \n",
    "            for i in range(len(b_str)):\n",
    "                if b_str[i] == '1':\n",
    "                    yield cirq.X(qubits[i])\n",
    "        \n",
    "        elif self.case == 'constant':\n",
    "            if np.random.randint(2) == 1:\n",
    "                yield cirq.X(qubits[self.n])  # Apply X to the auxiliary qubit only\n",
    "\n",
    "    def _circuit_diagram_info_(self, args):\n",
    "        return [\"Uf\"] * (self.n + 1)"
   ]
  },
  {
   "cell_type": "code",
   "execution_count": 3,
   "metadata": {},
   "outputs": [
    {
     "name": "stdout",
     "output_type": "stream",
     "text": [
      "0: ───Uf───M('result')───\n",
      "      │    │\n",
      "1: ───Uf───M─────────────\n",
      "      │    │\n",
      "2: ───Uf───M─────────────\n"
     ]
    }
   ],
   "source": [
    "n = 2\n",
    "oracle = Oracle('balanced', n)\n",
    "qubits = cirq.LineQubit.range(n + 1)\n",
    "circuit = cirq.Circuit(\n",
    "    oracle(*qubits),\n",
    "    cirq.measure(*qubits, key='result')\n",
    ")\n",
    "\n",
    "print(circuit)"
   ]
  },
  {
   "cell_type": "code",
   "execution_count": 4,
   "metadata": {},
   "outputs": [
    {
     "name": "stdout",
     "output_type": "stream",
     "text": [
      "Input: 000, Output: [0 0 1]\n",
      "Input: 010, Output: [0 1 0]\n",
      "Input: 100, Output: [1 0 0]\n",
      "Input: 110, Output: [1 1 1]\n"
     ]
    }
   ],
   "source": [
    "sim = cirq.Simulator()\n",
    "\n",
    "states = ['0b000', '0b010', '0b100', '0b110']\n",
    "samples = []\n",
    "\n",
    "for state in states:\n",
    "    result = sim.simulate(circuit, initial_state=int(state, 2))\n",
    "    print(f\"Input: {state[2:]}, Output: {result.measurements['result']}\")"
   ]
  },
  {
   "cell_type": "markdown",
   "metadata": {},
   "source": [
    "## Deutsch-Jozsa Algorithm"
   ]
  },
  {
   "cell_type": "code",
   "execution_count": 5,
   "metadata": {},
   "outputs": [],
   "source": [
    "def deutsch_jozsa(oracle):\n",
    "    n = oracle.n\n",
    "    qubits = cirq.LineQubit.range(n + 1)\n",
    "    circuit = cirq.Circuit(\n",
    "        cirq.X(qubits[n]),\n",
    "        cirq.Moment(cirq.H.on_each(*qubits)),\n",
    "        oracle(*qubits),\n",
    "        cirq.H.on_each(*qubits[:-1]),\n",
    "        cirq.measure(*qubits[:-1], key='result')\n",
    "    )\n",
    "    return circuit"
   ]
  },
  {
   "cell_type": "code",
   "execution_count": 6,
   "metadata": {},
   "outputs": [],
   "source": [
    "circuit = deutsch_jozsa(oracle)"
   ]
  },
  {
   "cell_type": "code",
   "execution_count": 7,
   "metadata": {},
   "outputs": [
    {
     "name": "stdout",
     "output_type": "stream",
     "text": [
      "0: ───────H───Uf───H───M('result')───\n",
      "              │        │\n",
      "1: ───────H───Uf───H───M─────────────\n",
      "              │\n",
      "2: ───X───H───Uf─────────────────────\n"
     ]
    }
   ],
   "source": [
    "print(circuit)"
   ]
  },
  {
   "cell_type": "code",
   "execution_count": 37,
   "metadata": {},
   "outputs": [],
   "source": [
    "def join_array_to_string(array):\n",
    "    return ''.join([str(int(i)) for i in array])"
   ]
  },
  {
   "cell_type": "code",
   "execution_count": 38,
   "metadata": {},
   "outputs": [],
   "source": [
    "def run_dj(case, n):\n",
    "    oracle = Oracle(case, n)\n",
    "    circuit = deutsch_jozsa(oracle)\n",
    "    sim = cirq.Simulator()\n",
    "    result = sim.run(circuit, repetitions=1000)\n",
    "    return result.histogram(key='result', fold_func=join_array_to_string)"
   ]
  },
  {
   "cell_type": "code",
   "execution_count": 41,
   "metadata": {},
   "outputs": [
    {
     "data": {
      "image/png": "[encoded data removed]",
      "text/plain": [
       "<Figure size 1200x400 with 2 Axes>"
      ]
     },
     "metadata": {},
     "output_type": "display_data"
    }
   ],
   "source": [
    "fig, ax = plt.subplots(1, 2, figsize=(12, 4))\n",
    "cirq.plot_state_histogram(run_dj('constant', 4), ax=ax[0])\n",
    "ax[0].set_title('Constant Oracle')\n",
    "cirq.plot_state_histogram(run_dj('balanced', 4), ax=ax[1])\n",
    "ax[1].set_title('Balanced Oracle')\n",
    "plt.show()"
   ]
  }
 ],
 "metadata": {
  "kernelspec": {
   "display_name": ".venv",
   "language": "python",
   "name": "python3"
  },
  "language_info": {
   "codemirror_mode": {
    "name": "ipython",
    "version": 3
   },
   "file_extension": ".py",
   "mimetype": "text/x-python",
   "name": "python",
   "nbconvert_exporter": "python",
   "pygments_lexer": "ipython3",
   "version": "3.11.6"
  }
 },
 "nbformat": 4,
 "nbformat_minor": 2
}
