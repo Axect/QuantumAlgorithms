{
 "cells": [
  {
   "cell_type": "code",
   "execution_count": 1,
   "metadata": {},
   "outputs": [],
   "source": [
    "import numpy as np\n",
    "import matplotlib.pyplot as plt\n",
    "from qiskit import QuantumCircuit, Aer, execute\n",
    "from qiskit.circuit import Gate\n",
    "from qiskit.visualization import plot_histogram"
   ]
  },
  {
   "cell_type": "code",
   "execution_count": 2,
   "metadata": {},
   "outputs": [],
   "source": [
    "class Oracle(Gate):\n",
    "    def __init__(self, s):\n",
    "        super().__init__('Oracle', len(s)+1, [])\n",
    "        self.s = s\n",
    "        self.n = len(s)\n",
    "\n",
    "    def _define(self):\n",
    "        qc = QuantumCircuit(self.num_qubits, name=self.name)\n",
    "        s = self.s\n",
    "        n = self.n\n",
    "\n",
    "        for i in range(n):\n",
    "            if s[i] == 1:\n",
    "                qc.cx(i, n)\n",
    "        \n",
    "        self.definition = qc"
   ]
  },
  {
   "cell_type": "code",
   "execution_count": 3,
   "metadata": {},
   "outputs": [
    {
     "data": {
      "image/png": "[encoded data removed]",
      "text/plain": [
       "<Figure size 287.496x367.889 with 1 Axes>"
      ]
     },
     "execution_count": 3,
     "metadata": {},
     "output_type": "execute_result"
    }
   ],
   "source": [
    "s = np.random.randint(2, size=3)\n",
    "oracle_gate = Oracle(s)\n",
    "qc = QuantumCircuit(4)\n",
    "qc.append(oracle_gate, range(4))\n",
    "qc.draw('mpl', style='iqx')"
   ]
  },
  {
   "cell_type": "code",
   "execution_count": 4,
   "metadata": {},
   "outputs": [],
   "source": [
    "def oracle_test(oracle, basis):\n",
    "    n = oracle.n\n",
    "    qc = QuantumCircuit(n+1, 1)\n",
    "    initial_state = np.array(basis) / np.linalg.norm(basis)\n",
    "    qc.initialize(initial_state, reversed(range(n)))\n",
    "    qc.barrier()\n",
    "    qc.append(oracle, qc.qubits)\n",
    "    qc.measure(n, 0)\n",
    "    return qc"
   ]
  },
  {
   "cell_type": "code",
   "execution_count": 5,
   "metadata": {},
   "outputs": [
    {
     "data": {
      "image/png": "[encoded data removed]",
      "text/plain": [
       "<Figure size 621.941x451.5 with 1 Axes>"
      ]
     },
     "execution_count": 5,
     "metadata": {},
     "output_type": "execute_result"
    }
   ],
   "source": [
    "qc = oracle_test(oracle_gate, [1, 0, 0, 0, 0, 0, 0, 0])\n",
    "qc.draw('mpl', style='iqx')"
   ]
  },
  {
   "cell_type": "code",
   "execution_count": 6,
   "metadata": {},
   "outputs": [],
   "source": [
    "def convert_zbasis_to_cbasis(zbasis):\n",
    "    \"\"\"\n",
    "    Converts a basis state in the Z basis to the computational basis\n",
    "    \n",
    "    Example:\n",
    "        Input: [0,0] -> Output: [1,0,0,0]\n",
    "        Input: [0,1] -> Output: [0,1,0,0]\n",
    "        Input: [1,0] -> Output: [0,0,1,0]\n",
    "        Input: [1,1] -> Output: [0,0,0,1]\n",
    "    \"\"\"\n",
    "    n = 2**len(zbasis)\n",
    "    \n",
    "    # z basis to binary number\n",
    "    bin_str = \"\".join([str(x) for x in zbasis])\n",
    "    num = int(bin_str,2)\n",
    "\n",
    "    # binary number to computational basis\n",
    "    cbasis = np.zeros(n)\n",
    "    cbasis[num] = 1\n",
    "\n",
    "    return cbasis"
   ]
  },
  {
   "cell_type": "code",
   "execution_count": 7,
   "metadata": {},
   "outputs": [],
   "source": [
    "simulator = Aer.get_backend('qasm_simulator')\n",
    "\n",
    "states = np.eye(3, dtype=int)\n",
    "bases = []\n",
    "for i in range(states.shape[0]):\n",
    "    bases.append(convert_zbasis_to_cbasis(states[i]))\n",
    "\n",
    "strings = []\n",
    "for basis in bases:\n",
    "    qc = oracle_test(oracle_gate, basis)\n",
    "    result = execute(qc, simulator, shots=1000).result()\n",
    "    counts = result.get_counts(qc)\n",
    "    # Pick max count\n",
    "    string = max(counts, key=counts.get)\n",
    "    strings.append(int(string))"
   ]
  },
  {
   "cell_type": "code",
   "execution_count": 8,
   "metadata": {},
   "outputs": [
    {
     "data": {
      "text/plain": [
       "[1, 1, 0]"
      ]
     },
     "execution_count": 8,
     "metadata": {},
     "output_type": "execute_result"
    }
   ],
   "source": [
    "strings"
   ]
  },
  {
   "cell_type": "code",
   "execution_count": 9,
   "metadata": {},
   "outputs": [
    {
     "data": {
      "text/plain": [
       "True"
      ]
     },
     "execution_count": 9,
     "metadata": {},
     "output_type": "execute_result"
    }
   ],
   "source": [
    "np.array_equal(s, strings)"
   ]
  },
  {
   "cell_type": "code",
   "execution_count": 10,
   "metadata": {},
   "outputs": [],
   "source": [
    "class Oracle(Gate):\n",
    "    def __init__(self, n):\n",
    "        super().__init__('Oracle', n+1, [])\n",
    "        self.n = n\n",
    "        self.s = np.random.randint(2, size=n)\n",
    "\n",
    "    def _define(self):\n",
    "        qc = QuantumCircuit(self.num_qubits, name=self.name)\n",
    "        n = self.n\n",
    "\n",
    "        for i in range(n):\n",
    "            if self.s[i] == 1:\n",
    "                qc.cx(i, n)\n",
    "        \n",
    "        self.definition = qc"
   ]
  },
  {
   "cell_type": "code",
   "execution_count": 11,
   "metadata": {},
   "outputs": [],
   "source": [
    "def bernstein_vazirani(oracle):\n",
    "    n = oracle.n\n",
    "    qc = QuantumCircuit(n+1, n)\n",
    "    # Make sure qubit n is in state |->\n",
    "    qc.x(n)\n",
    "    qc.h(n)\n",
    "    qc.barrier()\n",
    "\n",
    "    # Apply Hadamard gates before querying the oracle\n",
    "    for i in range(n):\n",
    "        qc.h(i)\n",
    "    qc.barrier()\n",
    "\n",
    "    # Query the oracle\n",
    "    qc.append(oracle, qc.qubits)\n",
    "\n",
    "    # Apply Hadamard gates after querying the oracle\n",
    "    qc.h(range(n))\n",
    "\n",
    "    # Measure all qubits\n",
    "    qc.measure(range(n), reversed(range(n)))\n",
    "    return qc"
   ]
  },
  {
   "cell_type": "code",
   "execution_count": 12,
   "metadata": {},
   "outputs": [],
   "source": [
    "def run_bv(n):\n",
    "    oracle_gate = Oracle(n)\n",
    "    qc = bernstein_vazirani(oracle_gate)\n",
    "    backend = Aer.get_backend('qasm_simulator')\n",
    "    result = execute(qc, backend, shots=1000).result()\n",
    "    counts = result.get_counts(qc)\n",
    "    return counts, oracle_gate.s"
   ]
  },
  {
   "cell_type": "code",
   "execution_count": 13,
   "metadata": {},
   "outputs": [
    {
     "data": {
      "image/png": "[encoded data removed]",
      "text/plain": [
       "<Figure size 700x500 with 1 Axes>"
      ]
     },
     "execution_count": 13,
     "metadata": {},
     "output_type": "execute_result"
    }
   ],
   "source": [
    "counts, s = run_bv(10)\n",
    "plot_histogram(counts)"
   ]
  },
  {
   "cell_type": "code",
   "execution_count": 14,
   "metadata": {},
   "outputs": [
    {
     "data": {
      "text/plain": [
       "array([1, 0, 1, 1, 0, 1, 1, 1, 1, 1])"
      ]
     },
     "execution_count": 14,
     "metadata": {},
     "output_type": "execute_result"
    }
   ],
   "source": [
    "s"
   ]
  }
 ],
 "metadata": {
  "kernelspec": {
   "display_name": ".venv",
   "language": "python",
   "name": "python3"
  },
  "language_info": {
   "codemirror_mode": {
    "name": "ipython",
    "version": 3
   },
   "file_extension": ".py",
   "mimetype": "text/x-python",
   "name": "python",
   "nbconvert_exporter": "python",
   "pygments_lexer": "ipython3",
   "version": "3.11.6"
  }
 },
 "nbformat": 4,
 "nbformat_minor": 2
}
